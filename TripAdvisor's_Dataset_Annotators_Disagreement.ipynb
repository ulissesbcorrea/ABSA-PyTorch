{
  "nbformat": 4,
  "nbformat_minor": 0,
  "metadata": {
    "colab": {
      "name": "TripAdvisor's_Dataset_Annotators_Disagreement.ipynb",
      "provenance": [],
      "collapsed_sections": [],
      "toc_visible": true,
      "include_colab_link": true
    },
    "kernelspec": {
      "name": "python3",
      "display_name": "Python 3"
    }
  },
  "cells": [
    {
      "cell_type": "markdown",
      "metadata": {
        "id": "view-in-github",
        "colab_type": "text"
      },
      "source": [
        "<a href=\"https://colab.research.google.com/github/ulissesbcorrea/ABSA-PyTorch/blob/master/TripAdvisor's_Dataset_Annotators_Disagreement.ipynb\" target=\"_parent\"><img src=\"https://colab.research.google.com/assets/colab-badge.svg\" alt=\"Open In Colab\"/></a>"
      ]
    },
    {
      "cell_type": "markdown",
      "metadata": {
        "id": "aVU7DP8t44v9",
        "colab_type": "text"
      },
      "source": [
        "#Importing Libraries"
      ]
    },
    {
      "cell_type": "code",
      "metadata": {
        "id": "V7lQHqEDoWRf",
        "colab_type": "code",
        "colab": {}
      },
      "source": [
        "!sudo pip3 -qqq install --upgrade disagree"
      ],
      "execution_count": 0,
      "outputs": []
    },
    {
      "cell_type": "code",
      "metadata": {
        "id": "YA_gooMsxSEn",
        "colab_type": "code",
        "colab": {}
      },
      "source": [
        "import csv\n",
        "import pandas as pd\n",
        "import math\n",
        "import numpy as np\n",
        "import random"
      ],
      "execution_count": 0,
      "outputs": []
    },
    {
      "cell_type": "markdown",
      "metadata": {
        "id": "5MRb65SN4-mO",
        "colab_type": "text"
      },
      "source": [
        "#Download Data"
      ]
    },
    {
      "cell_type": "code",
      "metadata": {
        "id": "IxtQtm47xPLh",
        "colab_type": "code",
        "outputId": "b48e0674-c216-4897-ff00-67a85055d5e7",
        "colab": {
          "base_uri": "https://localhost:8080/",
          "height": 85
        }
      },
      "source": [
        "!gdown https://drive.google.com/uc?id=1kASaaTW6NsvMgJ5UUpbb2f2MgL8mrD-c -O anotacoes.csv"
      ],
      "execution_count": 0,
      "outputs": [
        {
          "output_type": "stream",
          "text": [
            "Downloading...\n",
            "From: https://drive.google.com/uc?id=1kASaaTW6NsvMgJ5UUpbb2f2MgL8mrD-c\n",
            "To: /content/anotacoes.csv\n",
            "5.60MB [00:00, 49.2MB/s]\n"
          ],
          "name": "stdout"
        }
      ]
    },
    {
      "cell_type": "markdown",
      "metadata": {
        "id": "_uF8T-W95Bi_",
        "colab_type": "text"
      },
      "source": [
        "#Load Data "
      ]
    },
    {
      "cell_type": "code",
      "metadata": {
        "id": "p5341jzIxXYk",
        "colab_type": "code",
        "colab": {}
      },
      "source": [
        "anotacoesDF = pd.read_csv('anotacoes.csv', header=None, skiprows=1)\n",
        "names = ['id', 'review', 'aspect', 'subaspect', 'subsubaspect', 'pol', 'impexp', 'termo_impexp', 'anotador']\n",
        "anotacoesDF.columns = names"
      ],
      "execution_count": 0,
      "outputs": []
    },
    {
      "cell_type": "code",
      "metadata": {
        "id": "yXLHBkxCn4Ew",
        "colab_type": "code",
        "colab": {
          "base_uri": "https://localhost:8080/",
          "height": 255
        },
        "outputId": "21e6bb87-f758-49d9-9299-87b4f920098f"
      },
      "source": [
        "anotacoesDF.info()"
      ],
      "execution_count": 65,
      "outputs": [
        {
          "output_type": "stream",
          "text": [
            "<class 'pandas.core.frame.DataFrame'>\n",
            "Int64Index: 17045 entries, 0 to 20695\n",
            "Data columns (total 9 columns):\n",
            "id              17045 non-null int64\n",
            "review          17045 non-null object\n",
            "aspect          17045 non-null object\n",
            "subaspect       17044 non-null object\n",
            "subsubaspect    17044 non-null object\n",
            "pol             17045 non-null int64\n",
            "impexp          17045 non-null object\n",
            "termo_impexp    4000 non-null object\n",
            "anotador        17045 non-null int64\n",
            "dtypes: int64(3), object(6)\n",
            "memory usage: 1.3+ MB\n"
          ],
          "name": "stdout"
        }
      ]
    },
    {
      "cell_type": "code",
      "metadata": {
        "id": "kCP46RmMjGbR",
        "colab_type": "code",
        "colab": {
          "base_uri": "https://localhost:8080/",
          "height": 297
        },
        "outputId": "b8972fb6-15e1-406b-e43c-b8803cb5dc49"
      },
      "source": [
        "anotacoesDF.describe()"
      ],
      "execution_count": 53,
      "outputs": [
        {
          "output_type": "execute_result",
          "data": {
            "text/html": [
              "<div>\n",
              "<style scoped>\n",
              "    .dataframe tbody tr th:only-of-type {\n",
              "        vertical-align: middle;\n",
              "    }\n",
              "\n",
              "    .dataframe tbody tr th {\n",
              "        vertical-align: top;\n",
              "    }\n",
              "\n",
              "    .dataframe thead th {\n",
              "        text-align: right;\n",
              "    }\n",
              "</style>\n",
              "<table border=\"1\" class=\"dataframe\">\n",
              "  <thead>\n",
              "    <tr style=\"text-align: right;\">\n",
              "      <th></th>\n",
              "      <th>id</th>\n",
              "      <th>pol</th>\n",
              "      <th>anotador</th>\n",
              "    </tr>\n",
              "  </thead>\n",
              "  <tbody>\n",
              "    <tr>\n",
              "      <th>count</th>\n",
              "      <td>20696.000000</td>\n",
              "      <td>20696.000000</td>\n",
              "      <td>20696.000000</td>\n",
              "    </tr>\n",
              "    <tr>\n",
              "      <th>mean</th>\n",
              "      <td>16272.102677</td>\n",
              "      <td>0.633407</td>\n",
              "      <td>11.735263</td>\n",
              "    </tr>\n",
              "    <tr>\n",
              "      <th>std</th>\n",
              "      <td>6063.237558</td>\n",
              "      <td>0.685531</td>\n",
              "      <td>3.277372</td>\n",
              "    </tr>\n",
              "    <tr>\n",
              "      <th>min</th>\n",
              "      <td>5836.000000</td>\n",
              "      <td>-1.000000</td>\n",
              "      <td>0.000000</td>\n",
              "    </tr>\n",
              "    <tr>\n",
              "      <th>25%</th>\n",
              "      <td>11009.750000</td>\n",
              "      <td>1.000000</td>\n",
              "      <td>9.000000</td>\n",
              "    </tr>\n",
              "    <tr>\n",
              "      <th>50%</th>\n",
              "      <td>16190.500000</td>\n",
              "      <td>1.000000</td>\n",
              "      <td>10.000000</td>\n",
              "    </tr>\n",
              "    <tr>\n",
              "      <th>75%</th>\n",
              "      <td>21567.250000</td>\n",
              "      <td>1.000000</td>\n",
              "      <td>14.000000</td>\n",
              "    </tr>\n",
              "    <tr>\n",
              "      <th>max</th>\n",
              "      <td>26741.000000</td>\n",
              "      <td>1.000000</td>\n",
              "      <td>19.000000</td>\n",
              "    </tr>\n",
              "  </tbody>\n",
              "</table>\n",
              "</div>"
            ],
            "text/plain": [
              "                 id           pol      anotador\n",
              "count  20696.000000  20696.000000  20696.000000\n",
              "mean   16272.102677      0.633407     11.735263\n",
              "std     6063.237558      0.685531      3.277372\n",
              "min     5836.000000     -1.000000      0.000000\n",
              "25%    11009.750000      1.000000      9.000000\n",
              "50%    16190.500000      1.000000     10.000000\n",
              "75%    21567.250000      1.000000     14.000000\n",
              "max    26741.000000      1.000000     19.000000"
            ]
          },
          "metadata": {
            "tags": []
          },
          "execution_count": 53
        }
      ]
    },
    {
      "cell_type": "markdown",
      "metadata": {
        "id": "KRoUO6aOnWqM",
        "colab_type": "text"
      },
      "source": [
        "## Limpando anotadores irregulares\n"
      ]
    },
    {
      "cell_type": "markdown",
      "metadata": {
        "id": "ElLwpcShq8Ck",
        "colab_type": "text"
      },
      "source": [
        "Aluno que só carregou os textos e salvou, sem marcar as polaridades das opiniões."
      ]
    },
    {
      "cell_type": "code",
      "metadata": {
        "id": "ACVOubHNkpS5",
        "colab_type": "code",
        "colab": {}
      },
      "source": [
        "anotacoes_lucas_remover =  anotacoesDF[anotacoesDF.anotador == 10].index\n",
        "anotacoesDF = anotacoesDF.drop(anotacoes_lucas_remover)"
      ],
      "execution_count": 0,
      "outputs": []
    },
    {
      "cell_type": "markdown",
      "metadata": {
        "id": "ndCEw5NTq1bA",
        "colab_type": "text"
      },
      "source": [
        "Quando a sessão expira o sistema salva a anotação como user id 0."
      ]
    },
    {
      "cell_type": "code",
      "metadata": {
        "id": "630wypu7ladj",
        "colab_type": "code",
        "colab": {}
      },
      "source": [
        "anotacoes_id0_remover =  anotacoesDF[anotacoesDF.anotador == 0].index\n",
        "anotacoesDF = anotacoesDF.drop(anotacoes_id0_remover)"
      ],
      "execution_count": 0,
      "outputs": []
    },
    {
      "cell_type": "markdown",
      "metadata": {
        "id": "haNQjBoYqvUR",
        "colab_type": "text"
      },
      "source": [
        "## Número de Anotações por Anotador"
      ]
    },
    {
      "cell_type": "code",
      "metadata": {
        "id": "vCorBzfFqm1Y",
        "colab_type": "code",
        "colab": {
          "base_uri": "https://localhost:8080/",
          "height": 221
        },
        "outputId": "179bae71-0918-4d01-ad3d-3d2a6f3aa323"
      },
      "source": [
        "anotacoesDF.anotador.value_counts()"
      ],
      "execution_count": 67,
      "outputs": [
        {
          "output_type": "execute_result",
          "data": {
            "text/plain": [
              "8     3772\n",
              "9     3221\n",
              "14    2803\n",
              "13    2387\n",
              "15    1544\n",
              "19    1163\n",
              "17     729\n",
              "12     589\n",
              "16     521\n",
              "11     211\n",
              "18     105\n",
              "Name: anotador, dtype: int64"
            ]
          },
          "metadata": {
            "tags": []
          },
          "execution_count": 67
        }
      ]
    },
    {
      "cell_type": "markdown",
      "metadata": {
        "id": "pgEh9fJ8_A_W",
        "colab_type": "text"
      },
      "source": [
        "## Selecionando apenas opiniões explícitas"
      ]
    },
    {
      "cell_type": "code",
      "metadata": {
        "id": "J19PInfOyEmv",
        "colab_type": "code",
        "colab": {}
      },
      "source": [
        "anotacoesDF = anotacoesDF[anotacoesDF.impexp == 'Explícito']\n",
        "# anotacoesDF.groupby(by=['review', 'aspect'])"
      ],
      "execution_count": 0,
      "outputs": []
    },
    {
      "cell_type": "code",
      "metadata": {
        "id": "Eod1VQiJtCjG",
        "colab_type": "code",
        "colab": {
          "base_uri": "https://localhost:8080/",
          "height": 297
        },
        "outputId": "73a11df6-d065-4c19-ebd8-f8f6ed73d7fb"
      },
      "source": [
        "anotacoesDF.describe()"
      ],
      "execution_count": 69,
      "outputs": [
        {
          "output_type": "execute_result",
          "data": {
            "text/html": [
              "<div>\n",
              "<style scoped>\n",
              "    .dataframe tbody tr th:only-of-type {\n",
              "        vertical-align: middle;\n",
              "    }\n",
              "\n",
              "    .dataframe tbody tr th {\n",
              "        vertical-align: top;\n",
              "    }\n",
              "\n",
              "    .dataframe thead th {\n",
              "        text-align: right;\n",
              "    }\n",
              "</style>\n",
              "<table border=\"1\" class=\"dataframe\">\n",
              "  <thead>\n",
              "    <tr style=\"text-align: right;\">\n",
              "      <th></th>\n",
              "      <th>id</th>\n",
              "      <th>pol</th>\n",
              "      <th>anotador</th>\n",
              "    </tr>\n",
              "  </thead>\n",
              "  <tbody>\n",
              "    <tr>\n",
              "      <th>count</th>\n",
              "      <td>13933.000000</td>\n",
              "      <td>13933.000000</td>\n",
              "      <td>13933.000000</td>\n",
              "    </tr>\n",
              "    <tr>\n",
              "      <th>mean</th>\n",
              "      <td>15395.779014</td>\n",
              "      <td>0.573602</td>\n",
              "      <td>11.556090</td>\n",
              "    </tr>\n",
              "    <tr>\n",
              "      <th>std</th>\n",
              "      <td>6598.471676</td>\n",
              "      <td>0.724543</td>\n",
              "      <td>3.460156</td>\n",
              "    </tr>\n",
              "    <tr>\n",
              "      <th>min</th>\n",
              "      <td>5836.000000</td>\n",
              "      <td>-1.000000</td>\n",
              "      <td>8.000000</td>\n",
              "    </tr>\n",
              "    <tr>\n",
              "      <th>25%</th>\n",
              "      <td>9401.000000</td>\n",
              "      <td>0.000000</td>\n",
              "      <td>8.000000</td>\n",
              "    </tr>\n",
              "    <tr>\n",
              "      <th>50%</th>\n",
              "      <td>13068.000000</td>\n",
              "      <td>1.000000</td>\n",
              "      <td>11.000000</td>\n",
              "    </tr>\n",
              "    <tr>\n",
              "      <th>75%</th>\n",
              "      <td>21542.000000</td>\n",
              "      <td>1.000000</td>\n",
              "      <td>14.000000</td>\n",
              "    </tr>\n",
              "    <tr>\n",
              "      <th>max</th>\n",
              "      <td>26741.000000</td>\n",
              "      <td>1.000000</td>\n",
              "      <td>19.000000</td>\n",
              "    </tr>\n",
              "  </tbody>\n",
              "</table>\n",
              "</div>"
            ],
            "text/plain": [
              "                 id           pol      anotador\n",
              "count  13933.000000  13933.000000  13933.000000\n",
              "mean   15395.779014      0.573602     11.556090\n",
              "std     6598.471676      0.724543      3.460156\n",
              "min     5836.000000     -1.000000      8.000000\n",
              "25%     9401.000000      0.000000      8.000000\n",
              "50%    13068.000000      1.000000     11.000000\n",
              "75%    21542.000000      1.000000     14.000000\n",
              "max    26741.000000      1.000000     19.000000"
            ]
          },
          "metadata": {
            "tags": []
          },
          "execution_count": 69
        }
      ]
    },
    {
      "cell_type": "code",
      "metadata": {
        "id": "MeW2GQIe3vC4",
        "colab_type": "code",
        "colab": {}
      },
      "source": [
        "anotacoesDF_Explicitas = anotacoesDF.drop(columns = ['impexp', 'termo_impexp'])"
      ],
      "execution_count": 0,
      "outputs": []
    },
    {
      "cell_type": "markdown",
      "metadata": {
        "id": "IuTC96gY_GlT",
        "colab_type": "text"
      },
      "source": [
        "# Analisando Anotações"
      ]
    },
    {
      "cell_type": "code",
      "metadata": {
        "id": "LUz7x0JlyqZP",
        "colab_type": "code",
        "outputId": "8725a6cd-dbd5-43a2-8933-a645f84fa3a4",
        "colab": {
          "base_uri": "https://localhost:8080/",
          "height": 204
        }
      },
      "source": [
        "anotacoesDF_Explicitas.head()"
      ],
      "execution_count": 71,
      "outputs": [
        {
          "output_type": "execute_result",
          "data": {
            "text/html": [
              "<div>\n",
              "<style scoped>\n",
              "    .dataframe tbody tr th:only-of-type {\n",
              "        vertical-align: middle;\n",
              "    }\n",
              "\n",
              "    .dataframe tbody tr th {\n",
              "        vertical-align: top;\n",
              "    }\n",
              "\n",
              "    .dataframe thead th {\n",
              "        text-align: right;\n",
              "    }\n",
              "</style>\n",
              "<table border=\"1\" class=\"dataframe\">\n",
              "  <thead>\n",
              "    <tr style=\"text-align: right;\">\n",
              "      <th></th>\n",
              "      <th>id</th>\n",
              "      <th>review</th>\n",
              "      <th>aspect</th>\n",
              "      <th>subaspect</th>\n",
              "      <th>subsubaspect</th>\n",
              "      <th>pol</th>\n",
              "      <th>anotador</th>\n",
              "    </tr>\n",
              "  </thead>\n",
              "  <tbody>\n",
              "    <tr>\n",
              "      <th>0</th>\n",
              "      <td>6431</td>\n",
              "      <td>O Hotel esta muito bem localizado os apartamen...</td>\n",
              "      <td>estabelecimento</td>\n",
              "      <td>apartamento</td>\n",
              "      <td>Selecione uma Opção</td>\n",
              "      <td>1</td>\n",
              "      <td>8</td>\n",
              "    </tr>\n",
              "    <tr>\n",
              "      <th>1</th>\n",
              "      <td>6430</td>\n",
              "      <td>O Hotel esta muito bem localizado os apartamen...</td>\n",
              "      <td>quarto</td>\n",
              "      <td>Selecione uma Opção</td>\n",
              "      <td>SubSubFeature</td>\n",
              "      <td>1</td>\n",
              "      <td>8</td>\n",
              "    </tr>\n",
              "    <tr>\n",
              "      <th>2</th>\n",
              "      <td>6429</td>\n",
              "      <td>O Hotel esta muito bem localizado os apartamen...</td>\n",
              "      <td>localização</td>\n",
              "      <td>Selecione uma Opção</td>\n",
              "      <td>SubSubFeature</td>\n",
              "      <td>1</td>\n",
              "      <td>8</td>\n",
              "    </tr>\n",
              "    <tr>\n",
              "      <th>3</th>\n",
              "      <td>6428</td>\n",
              "      <td>Acabei de voltar de Paris e fiquei 3 dias hosp...</td>\n",
              "      <td>estabelecimento</td>\n",
              "      <td>hotel</td>\n",
              "      <td>Selecione uma Opção</td>\n",
              "      <td>1</td>\n",
              "      <td>8</td>\n",
              "    </tr>\n",
              "    <tr>\n",
              "      <th>4</th>\n",
              "      <td>6427</td>\n",
              "      <td>Acabei de voltar de Paris e fiquei 3 dias hosp...</td>\n",
              "      <td>estabelecimento</td>\n",
              "      <td>apartamento</td>\n",
              "      <td>Selecione uma Opção</td>\n",
              "      <td>1</td>\n",
              "      <td>8</td>\n",
              "    </tr>\n",
              "  </tbody>\n",
              "</table>\n",
              "</div>"
            ],
            "text/plain": [
              "     id                                             review  ... pol anotador\n",
              "0  6431  O Hotel esta muito bem localizado os apartamen...  ...   1        8\n",
              "1  6430  O Hotel esta muito bem localizado os apartamen...  ...   1        8\n",
              "2  6429  O Hotel esta muito bem localizado os apartamen...  ...   1        8\n",
              "3  6428  Acabei de voltar de Paris e fiquei 3 dias hosp...  ...   1        8\n",
              "4  6427  Acabei de voltar de Paris e fiquei 3 dias hosp...  ...   1        8\n",
              "\n",
              "[5 rows x 7 columns]"
            ]
          },
          "metadata": {
            "tags": []
          },
          "execution_count": 71
        }
      ]
    },
    {
      "cell_type": "markdown",
      "metadata": {
        "id": "gOz9WFhNusqI",
        "colab_type": "text"
      },
      "source": [
        "Número Total de *Reviews* Anotados"
      ]
    },
    {
      "cell_type": "code",
      "metadata": {
        "id": "D4qXkmdZHw5p",
        "colab_type": "code",
        "outputId": "aeaa4239-6931-4bc8-f9c8-d8bb4ebb4fdb",
        "colab": {
          "base_uri": "https://localhost:8080/",
          "height": 34
        }
      },
      "source": [
        "len(anotacoesDF_Explicitas.review.unique())"
      ],
      "execution_count": 84,
      "outputs": [
        {
          "output_type": "execute_result",
          "data": {
            "text/plain": [
              "1496"
            ]
          },
          "metadata": {
            "tags": []
          },
          "execution_count": 84
        }
      ]
    },
    {
      "cell_type": "markdown",
      "metadata": {
        "id": "DHp5wWs4vJX1",
        "colab_type": "text"
      },
      "source": [
        "### Contagem de Anotações por *Review*"
      ]
    },
    {
      "cell_type": "code",
      "metadata": {
        "id": "BpY2UNBp9WFn",
        "colab_type": "code",
        "colab": {}
      },
      "source": [
        "temp = anotacoesDF_Explicitas.groupby(by=['review']).anotador.nunique()"
      ],
      "execution_count": 0,
      "outputs": []
    },
    {
      "cell_type": "code",
      "metadata": {
        "id": "f3ubP-e8-ZmW",
        "colab_type": "code",
        "colab": {}
      },
      "source": [
        "temp = temp.reset_index()"
      ],
      "execution_count": 0,
      "outputs": []
    },
    {
      "cell_type": "markdown",
      "metadata": {
        "id": "awSdYHTovIIW",
        "colab_type": "text"
      },
      "source": [
        "Número de Textos Anotados Por Pelo Menos 3 Anotadores"
      ]
    },
    {
      "cell_type": "code",
      "metadata": {
        "id": "dsFFSuge-7Qw",
        "colab_type": "code",
        "outputId": "c4f2dd9e-2758-4f21-a87f-e333fb080c11",
        "colab": {
          "base_uri": "https://localhost:8080/",
          "height": 34
        }
      },
      "source": [
        "df_anotadores_suficiente = temp[temp.anotador >= 3]\n",
        "len(df_anotadores_suficiente)"
      ],
      "execution_count": 91,
      "outputs": [
        {
          "output_type": "execute_result",
          "data": {
            "text/plain": [
              "461"
            ]
          },
          "metadata": {
            "tags": []
          },
          "execution_count": 91
        }
      ]
    },
    {
      "cell_type": "markdown",
      "metadata": {
        "id": "SPzkgUl_vnfC",
        "colab_type": "text"
      },
      "source": [
        ""
      ]
    },
    {
      "cell_type": "code",
      "metadata": {
        "id": "whbxjKRP_Lvv",
        "colab_type": "code",
        "colab": {}
      },
      "source": [
        "# anotacoesDF_Explicitas.loc[anotacoesDF_Explicitas.review.str.contains('òtima Localização, próximo as estações ')]"
      ],
      "execution_count": 0,
      "outputs": []
    },
    {
      "cell_type": "code",
      "metadata": {
        "id": "b1EaL9DAXEzf",
        "colab_type": "code",
        "colab": {}
      },
      "source": [
        "# anotacoesDF_Explicitas.groupby(by=['review', 'aspect', 'subaspect', 'subsubaspect']).anotador.nunique()"
      ],
      "execution_count": 0,
      "outputs": []
    },
    {
      "cell_type": "code",
      "metadata": {
        "id": "L33phnqFbDQX",
        "colab_type": "code",
        "colab": {}
      },
      "source": [
        "# temp = temp.reset_index()\n",
        "# temp[temp.anotador>=2].head()"
      ],
      "execution_count": 0,
      "outputs": []
    },
    {
      "cell_type": "markdown",
      "metadata": {
        "id": "6dfTivrJp8lu",
        "colab_type": "text"
      },
      "source": [
        "# Preparing for disagreement"
      ]
    },
    {
      "cell_type": "code",
      "metadata": {
        "id": "mi2eRUSqny7C",
        "colab_type": "code",
        "colab": {}
      },
      "source": [
        "anotador1 = 8\n",
        "anotador2 = 9\n",
        "label_anotador1 = 'anotador_'+str(anotador1)\n",
        "label_anotador2 = 'anotador_'+str(anotador2)\n",
        "\n",
        "anotacoes_1 = anotacoesDF_Explicitas[anotacoesDF_Explicitas.anotador == anotador1].copy()\n",
        "anotacoes_2 = anotacoesDF_Explicitas[anotacoesDF_Explicitas.anotador == anotador2].copy()"
      ],
      "execution_count": 0,
      "outputs": []
    },
    {
      "cell_type": "code",
      "metadata": {
        "id": "IKq5n0jHqQLu",
        "colab_type": "code",
        "colab": {}
      },
      "source": [
        "merged = pd.merge(left=anotacoes_1, right=anotacoes_2, on=['review', 'aspect', 'subaspect', 'subsubaspect'], suffixes=('_'+str(anotador1),'_'+str(anotador2)))"
      ],
      "execution_count": 0,
      "outputs": []
    },
    {
      "cell_type": "code",
      "metadata": {
        "id": "RPWvt145N7WN",
        "colab_type": "code",
        "colab": {}
      },
      "source": [
        "merged_cleaned = merged.drop(columns=['review', 'aspect', 'subaspect', 'subsubaspect', 'id_'+str(anotador1), 'id_'+str(anotador2), label_anotador1, label_anotador2], axis = 1)"
      ],
      "execution_count": 0,
      "outputs": []
    },
    {
      "cell_type": "code",
      "metadata": {
        "id": "EeJgbvf_MjXf",
        "colab_type": "code",
        "colab": {}
      },
      "source": [
        "from disagree import BiDisagreements\n",
        "from disagree.metrics import Metrics, Krippendorff"
      ],
      "execution_count": 0,
      "outputs": []
    },
    {
      "cell_type": "code",
      "metadata": {
        "id": "_f9b56nfOSma",
        "colab_type": "code",
        "colab": {}
      },
      "source": [
        "labels = [-1, 0, 1]"
      ],
      "execution_count": 0,
      "outputs": []
    },
    {
      "cell_type": "code",
      "metadata": {
        "id": "4h4qcsMeNp_n",
        "colab_type": "code",
        "colab": {}
      },
      "source": [
        "bidis = BiDisagreements(merged_cleaned, labels)"
      ],
      "execution_count": 0,
      "outputs": []
    },
    {
      "cell_type": "code",
      "metadata": {
        "id": "qCqg_-nUORln",
        "colab_type": "code",
        "colab": {}
      },
      "source": [
        "bidis.agreements_summary()"
      ],
      "execution_count": 0,
      "outputs": []
    },
    {
      "cell_type": "code",
      "metadata": {
        "id": "hYEi0WOEOZtn",
        "colab_type": "code",
        "colab": {}
      },
      "source": [
        "mat = bidis.agreements_matrix()\n",
        "mat_normalised = bidis.agreements_matrix(normalise=True)"
      ],
      "execution_count": 0,
      "outputs": []
    },
    {
      "cell_type": "code",
      "metadata": {
        "id": "Uxjf7B17Ogyr",
        "colab_type": "code",
        "colab": {}
      },
      "source": [
        "print(mat)\n",
        "print(mat_normalised)"
      ],
      "execution_count": 0,
      "outputs": []
    },
    {
      "cell_type": "code",
      "metadata": {
        "id": "I6PiQgudO_yE",
        "colab_type": "code",
        "colab": {}
      },
      "source": [
        "mets = Metrics(merged_cleaned, labels)"
      ],
      "execution_count": 0,
      "outputs": []
    },
    {
      "cell_type": "code",
      "metadata": {
        "id": "2JcpDAJ9PN9m",
        "colab_type": "code",
        "colab": {}
      },
      "source": [
        "mets.cohens_kappa('pol_'+str(anotador1),'pol_'+str(anotador2))"
      ],
      "execution_count": 0,
      "outputs": []
    },
    {
      "cell_type": "code",
      "metadata": {
        "id": "gj-k5H8hPoBE",
        "colab_type": "code",
        "colab": {}
      },
      "source": [
        "from sklearn.metrics import cohen_kappa_score\n",
        "cohen_kappa_score(merged_cleaned['pol_'+str(anotador1)], merged_cleaned['pol_'+str(anotador2)])"
      ],
      "execution_count": 0,
      "outputs": []
    },
    {
      "cell_type": "code",
      "metadata": {
        "id": "t9JwikXHQDTO",
        "colab_type": "code",
        "colab": {}
      },
      "source": [
        "from sklearn.metrics import confusion_matrix\n",
        "confusion_matrix(merged_cleaned['pol'+str(anotador1)], merged_cleaned['pol'+str(anotador2)])"
      ],
      "execution_count": 0,
      "outputs": []
    },
    {
      "cell_type": "code",
      "metadata": {
        "id": "lcqX0DvjQLyK",
        "colab_type": "code",
        "colab": {}
      },
      "source": [
        "len(merged_cleaned[merged_cleaned['pol'+str(anotador1)] == 1])"
      ],
      "execution_count": 0,
      "outputs": []
    },
    {
      "cell_type": "code",
      "metadata": {
        "id": "ciLmxQngQc9J",
        "colab_type": "code",
        "colab": {}
      },
      "source": [
        "len(merged_cleaned[merged_cleaned['pol'+str(anotador2)]== 1])"
      ],
      "execution_count": 0,
      "outputs": []
    },
    {
      "cell_type": "code",
      "metadata": {
        "id": "IdSNT1qhQpGd",
        "colab_type": "code",
        "colab": {}
      },
      "source": [
        "merged.loc[merged_cleaned[merged_cleaned['pol'+str(anotador1)] != merged_cleaned['pol'+str(anotador2)]].index]"
      ],
      "execution_count": 0,
      "outputs": []
    },
    {
      "cell_type": "code",
      "metadata": {
        "id": "DISZRTBQShz8",
        "colab_type": "code",
        "colab": {}
      },
      "source": [
        "def locate_review(df, txt):\n",
        "  return df[df.review.str.contains(txt, regex = False)].review[df[df.review.str.contains(txt, regex = False)].index[0]]"
      ],
      "execution_count": 0,
      "outputs": []
    },
    {
      "cell_type": "code",
      "metadata": {
        "id": "GFvSAHx_TGYz",
        "colab_type": "code",
        "colab": {}
      },
      "source": [
        "locate_review(anotacoesDF_Explicitas, 'Hotel aconchegante, pessoal simpático')"
      ],
      "execution_count": 0,
      "outputs": []
    },
    {
      "cell_type": "code",
      "metadata": {
        "id": "f3fp3fr4HAzb",
        "colab_type": "code",
        "colab": {}
      },
      "source": [
        "anotacoesDF_Explicitas.head()"
      ],
      "execution_count": 0,
      "outputs": []
    },
    {
      "cell_type": "code",
      "metadata": {
        "id": "XoLkt8mrTMKJ",
        "colab_type": "code",
        "colab": {}
      },
      "source": [
        "anotacoesDF_Explicitas[anotacoesDF_Explicitas.anotador == anotador1].pol.value_counts()"
      ],
      "execution_count": 0,
      "outputs": []
    },
    {
      "cell_type": "code",
      "metadata": {
        "id": "1ixryv-gX_0g",
        "colab_type": "code",
        "colab": {}
      },
      "source": [
        "anotacoesDF_Explicitas.head()"
      ],
      "execution_count": 0,
      "outputs": []
    },
    {
      "cell_type": "code",
      "metadata": {
        "id": "06cPJpMWHa2C",
        "colab_type": "code",
        "colab": {}
      },
      "source": [
        "grouped = anotacoesDF_Explicitas.groupby(by=['review']).anotador.nunique()"
      ],
      "execution_count": 0,
      "outputs": []
    },
    {
      "cell_type": "code",
      "metadata": {
        "id": "NXUIQ4w1LP0U",
        "colab_type": "code",
        "colab": {}
      },
      "source": [
        "grouped = grouped.reset_index()\n",
        "len(grouped[grouped.anotador >= 2])\n"
      ],
      "execution_count": 0,
      "outputs": []
    },
    {
      "cell_type": "code",
      "metadata": {
        "id": "NDCyLqBXW5PT",
        "colab_type": "code",
        "colab": {}
      },
      "source": [
        "grouped.head()"
      ],
      "execution_count": 0,
      "outputs": []
    },
    {
      "cell_type": "code",
      "metadata": {
        "id": "mbTK5DlOTb9h",
        "colab_type": "code",
        "colab": {}
      },
      "source": [
        "def locate_review_id(df, txt):\n",
        "  return df[df.review.str.contains(txt, regex = False)].id.head(1).index[0]"
      ],
      "execution_count": 0,
      "outputs": []
    },
    {
      "cell_type": "code",
      "metadata": {
        "id": "9FhPZ46MRh2S",
        "colab_type": "code",
        "colab": {}
      },
      "source": [
        "ids = []\n",
        "for index,row in grouped.iterrows(): \n",
        "  # print(row['review'])\n",
        "  review = row['review']\n",
        "  ids.append(locate_review_id(anotacoesDF_Explicitas, review))"
      ],
      "execution_count": 0,
      "outputs": []
    },
    {
      "cell_type": "code",
      "metadata": {
        "id": "6S9Cbg2ZToho",
        "colab_type": "code",
        "colab": {}
      },
      "source": [
        "grouped['index'] = ids"
      ],
      "execution_count": 0,
      "outputs": []
    },
    {
      "cell_type": "code",
      "metadata": {
        "id": "cLCsnwjmWYDP",
        "colab_type": "code",
        "colab": {}
      },
      "source": [
        "anotacoesDF_Explicitas.anotador.value_counts()"
      ],
      "execution_count": 0,
      "outputs": []
    },
    {
      "cell_type": "code",
      "metadata": {
        "id": "9vcr4RascBPc",
        "colab_type": "code",
        "colab": {}
      },
      "source": [
        "anotacoesDF_Explicitas[anotacoesDF_Explicitas.anotador == 8].review.nunique()"
      ],
      "execution_count": 0,
      "outputs": []
    },
    {
      "cell_type": "code",
      "metadata": {
        "id": "WiNXuJxhmHlW",
        "colab_type": "code",
        "colab": {}
      },
      "source": [
        "anotacoesDF_Explicitas[anotacoesDF_Explicitas.anotador == 9].review.nunique()"
      ],
      "execution_count": 0,
      "outputs": []
    },
    {
      "cell_type": "code",
      "metadata": {
        "id": "6CqWn6vEmJ8m",
        "colab_type": "code",
        "colab": {}
      },
      "source": [
        "anotacoesDF_Explicitas[anotacoesDF_Explicitas.anotador == 12].review.nunique()"
      ],
      "execution_count": 0,
      "outputs": []
    },
    {
      "cell_type": "code",
      "metadata": {
        "id": "S438OYU-nYrH",
        "colab_type": "code",
        "colab": {}
      },
      "source": [
        "anotacoesDF_Explicitas[anotacoesDF_Explicitas.anotador == 11].review.nunique()"
      ],
      "execution_count": 0,
      "outputs": []
    },
    {
      "cell_type": "code",
      "metadata": {
        "id": "pNfSCUqznlPL",
        "colab_type": "code",
        "colab": {}
      },
      "source": [
        "anotacoesDF_Explicitas[anotacoesDF_Explicitas.anotador == 0].review.nunique()"
      ],
      "execution_count": 0,
      "outputs": []
    },
    {
      "cell_type": "code",
      "metadata": {
        "id": "GWVomSzmnm92",
        "colab_type": "code",
        "colab": {}
      },
      "source": [
        "anotacoesDF_Explicitas[anotacoesDF_Explicitas.anotador == 13].review.nunique()"
      ],
      "execution_count": 0,
      "outputs": []
    },
    {
      "cell_type": "code",
      "metadata": {
        "id": "MUYNKMomn7sp",
        "colab_type": "code",
        "colab": {}
      },
      "source": [
        "!ls"
      ],
      "execution_count": 0,
      "outputs": []
    },
    {
      "cell_type": "code",
      "metadata": {
        "id": "Frgjab4hwTDu",
        "colab_type": "code",
        "colab": {}
      },
      "source": [
        "def save_row(row):\n",
        "  # print(row)\n",
        "  anotador = str(row['anotador'])\n",
        "  index = str(row['id'])\n",
        "  # print(anotador+'_'+index+ '.txt')\n",
        "  with open(anotador+'_'+index+ '.txt', 'w') as f:\n",
        "    f.write(row['review'])\n",
        "\n",
        "# _ = anotacoesDF_Explicitas[anotacoesDF_Explicitas.anotador == 9].apply(save_row, axis=1)"
      ],
      "execution_count": 0,
      "outputs": []
    },
    {
      "cell_type": "code",
      "metadata": {
        "id": "vlyTbCKb7379",
        "colab_type": "code",
        "colab": {}
      },
      "source": [
        "!rm *.txt"
      ],
      "execution_count": 0,
      "outputs": []
    },
    {
      "cell_type": "code",
      "metadata": {
        "id": "xPjsfYXIe6iE",
        "colab_type": "code",
        "colab": {}
      },
      "source": [
        "anotacoes_anotador = anotacoesDF_Explicitas[anotacoesDF_Explicitas.anotador == 8].drop_duplicates(subset=['review'])\n",
        "print(len(anotacoes_anotador), len(anotacoesDF_Explicitas[anotacoesDF_Explicitas.anotador == 8]))"
      ],
      "execution_count": 0,
      "outputs": []
    },
    {
      "cell_type": "code",
      "metadata": {
        "id": "z0nIJJiigEYd",
        "colab_type": "code",
        "colab": {}
      },
      "source": [
        "anotacoes_anotador[anotacoes_anotador.review.str.contains('O hotel é simples e as acomodações pequenas, mas bem limpo')]"
      ],
      "execution_count": 0,
      "outputs": []
    },
    {
      "cell_type": "code",
      "metadata": {
        "id": "1wUQBsilfrVr",
        "colab_type": "code",
        "colab": {}
      },
      "source": [
        "anotacoes_anotador.groupby(by=['review']).pol.value_counts()"
      ],
      "execution_count": 0,
      "outputs": []
    },
    {
      "cell_type": "code",
      "metadata": {
        "id": "BAK4x-Xtzvsp",
        "colab_type": "code",
        "colab": {}
      },
      "source": [
        "def salva_anotados(df):\n",
        "  anotadores = df.anotador.unique()\n",
        "  for anotador in anotadores:\n",
        "    print(f'Anotador:{anotador}')\n",
        "    anotacoes_anotador = df[df.anotador == anotador].drop_duplicates(subset=['review']).copy()\n",
        "    print(len(anotacoes_anotador))\n",
        "    anotacoes_anotador.apply(save_row, axis=1)\n",
        "salva_anotados(anotacoesDF_Explicitas)"
      ],
      "execution_count": 0,
      "outputs": []
    },
    {
      "cell_type": "code",
      "metadata": {
        "id": "jldJAGAMAiu_",
        "colab_type": "code",
        "colab": {}
      },
      "source": [
        "!ls"
      ],
      "execution_count": 0,
      "outputs": []
    },
    {
      "cell_type": "code",
      "metadata": {
        "id": "kJcNl3s7uGfw",
        "colab_type": "code",
        "colab": {}
      },
      "source": [
        "from google.colab import drive\n",
        "drive.mount('/content/drive')"
      ],
      "execution_count": 0,
      "outputs": []
    },
    {
      "cell_type": "code",
      "metadata": {
        "id": "1JmaWZbI1r1q",
        "colab_type": "code",
        "colab": {}
      },
      "source": [
        "# !mkdir -p drive/My\\ Drive/reviews/8\n",
        "# !cp 8*.txt drive/My\\ Drive/reviews/8"
      ],
      "execution_count": 0,
      "outputs": []
    },
    {
      "cell_type": "code",
      "metadata": {
        "id": "qxD5gqJrv-RH",
        "colab_type": "code",
        "colab": {}
      },
      "source": [
        "anotadores = anotacoesDF_Explicitas.anotador.unique()\n",
        "anotadores = [9]\n",
        "for anotador in anotadores:\n",
        "  print(f'Anotador: {anotador}')\n",
        "  !mkdir -p drive/My\\ Drive/reviews/{anotador}\n",
        "  !cp -v {anotador}*.txt drive/My\\ Drive/reviews/{anotador}"
      ],
      "execution_count": 0,
      "outputs": []
    },
    {
      "cell_type": "code",
      "metadata": {
        "id": "PPSf4NsCXptU",
        "colab_type": "code",
        "colab": {}
      },
      "source": [
        "!l drive/My\\ Drive/reviews/s9| wc -l"
      ],
      "execution_count": 0,
      "outputs": []
    },
    {
      "cell_type": "code",
      "metadata": {
        "id": "2bD7XZapc1vO",
        "colab_type": "code",
        "colab": {}
      },
      "source": [
        "!mkdir reviews9\n",
        "!mv 9*.txt reviews9"
      ],
      "execution_count": 0,
      "outputs": []
    },
    {
      "cell_type": "code",
      "metadata": {
        "id": "6ttDMn-XYE4s",
        "colab_type": "code",
        "colab": {}
      },
      "source": [
        "!zip -r reviews9.zip reviews9"
      ],
      "execution_count": 0,
      "outputs": []
    },
    {
      "cell_type": "code",
      "metadata": {
        "id": "6SYGMdr1gl2b",
        "colab_type": "code",
        "colab": {}
      },
      "source": [
        ""
      ],
      "execution_count": 0,
      "outputs": []
    },
    {
      "cell_type": "code",
      "metadata": {
        "id": "6jPjuaq6cSq3",
        "colab_type": "code",
        "colab": {}
      },
      "source": [
        "from google.colab import files\n",
        "\n",
        "files.download('reviews9.zip')"
      ],
      "execution_count": 0,
      "outputs": []
    },
    {
      "cell_type": "code",
      "metadata": {
        "id": "UNaKRbEsdsOF",
        "colab_type": "code",
        "colab": {}
      },
      "source": [
        " !cp reviews9.zip drive/My\\ Drive/reviews/\n"
      ],
      "execution_count": 0,
      "outputs": []
    },
    {
      "cell_type": "code",
      "metadata": {
        "id": "q0esVDoedvdC",
        "colab_type": "code",
        "colab": {}
      },
      "source": [
        "from nltk import agreement\n",
        "rater1 = [1,1,1]\n",
        "rater2 = [1,1,0]\n",
        "rater3 = [0,1,1]\n",
        "\n",
        "taskdata=[[0,str(i),str(rater1[i])] for i in range(0,len(rater1))]+[[1,str(i),str(rater2[i])] for i in range(0,len(rater2))]+[[2,str(i),str(rater3[i])] for i in range(0,len(rater3))]\n",
        "ratingtask = agreement.AnnotationTask(data=taskdata)\n",
        "print(\"kappa \" +str(ratingtask.kappa()))\n",
        "print(\"fleiss \" + str(ratingtask.multi_kappa()))\n",
        "print(\"alpha \" +str(ratingtask.alpha()))\n",
        "print(\"scotts \" + str(ratingtask.pi()))"
      ],
      "execution_count": 0,
      "outputs": []
    }
  ]
}